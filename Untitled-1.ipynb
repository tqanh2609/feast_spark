{
 "cells": [
  {
   "cell_type": "code",
   "execution_count": 1,
   "id": "c0cca41f",
   "metadata": {},
   "outputs": [],
   "source": [
    "import pandas as pd\n",
    "import io\n",
    "from pyarrow import parquet as pq"
   ]
  },
  {
   "cell_type": "code",
   "execution_count": 2,
   "id": "73a4c309",
   "metadata": {},
   "outputs": [],
   "source": [
    "df1 = pd.read_parquet(\"F:/feature_store/my_project/feature_repo/data/driver_stats.parquet\")"
   ]
  },
  {
   "cell_type": "code",
   "execution_count": 4,
   "id": "f39e6fce",
   "metadata": {},
   "outputs": [
    {
     "name": "stderr",
     "output_type": "stream",
     "text": [
      "C:\\Users\\dell\\AppData\\Local\\Temp\\ipykernel_15864\\2987667072.py:1: DeprecationWarning: DataFrameGroupBy.apply operated on the grouping columns. This behavior is deprecated, and in a future version of pandas the grouping columns will be excluded from the operation. Either pass `include_groups=False` to exclude the groupings or explicitly select the grouping columns after groupby to silence this warning.\n",
      "  df1.groupby('driver_id').apply(lambda x: x.sort_values(by='event_timestamp', ascending=False).iloc[-1])\n"
     ]
    },
    {
     "data": {
      "text/html": [
       "<div>\n",
       "<style scoped>\n",
       "    .dataframe tbody tr th:only-of-type {\n",
       "        vertical-align: middle;\n",
       "    }\n",
       "\n",
       "    .dataframe tbody tr th {\n",
       "        vertical-align: top;\n",
       "    }\n",
       "\n",
       "    .dataframe thead th {\n",
       "        text-align: right;\n",
       "    }\n",
       "</style>\n",
       "<table border=\"1\" class=\"dataframe\">\n",
       "  <thead>\n",
       "    <tr style=\"text-align: right;\">\n",
       "      <th></th>\n",
       "      <th>event_timestamp</th>\n",
       "      <th>driver_id</th>\n",
       "      <th>conv_rate</th>\n",
       "      <th>acc_rate</th>\n",
       "      <th>avg_daily_trips</th>\n",
       "      <th>created</th>\n",
       "    </tr>\n",
       "    <tr>\n",
       "      <th>driver_id</th>\n",
       "      <th></th>\n",
       "      <th></th>\n",
       "      <th></th>\n",
       "      <th></th>\n",
       "      <th></th>\n",
       "      <th></th>\n",
       "    </tr>\n",
       "  </thead>\n",
       "  <tbody>\n",
       "    <tr>\n",
       "      <th>1001</th>\n",
       "      <td>2021-04-12 07:00:00+00:00</td>\n",
       "      <td>1001</td>\n",
       "      <td>0.031889</td>\n",
       "      <td>0.659691</td>\n",
       "      <td>472</td>\n",
       "      <td>2025-04-23 16:49:56.519</td>\n",
       "    </tr>\n",
       "    <tr>\n",
       "      <th>1002</th>\n",
       "      <td>2021-04-12 07:00:00+00:00</td>\n",
       "      <td>1002</td>\n",
       "      <td>0.482723</td>\n",
       "      <td>0.240803</td>\n",
       "      <td>454</td>\n",
       "      <td>2025-04-23 16:49:56.519</td>\n",
       "    </tr>\n",
       "    <tr>\n",
       "      <th>1003</th>\n",
       "      <td>2021-04-12 07:00:00+00:00</td>\n",
       "      <td>1003</td>\n",
       "      <td>0.128065</td>\n",
       "      <td>0.099712</td>\n",
       "      <td>572</td>\n",
       "      <td>2025-04-23 16:49:56.519</td>\n",
       "    </tr>\n",
       "    <tr>\n",
       "      <th>1004</th>\n",
       "      <td>2021-04-12 07:00:00+00:00</td>\n",
       "      <td>1004</td>\n",
       "      <td>0.898697</td>\n",
       "      <td>0.932314</td>\n",
       "      <td>578</td>\n",
       "      <td>2025-04-23 16:49:56.519</td>\n",
       "    </tr>\n",
       "    <tr>\n",
       "      <th>1005</th>\n",
       "      <td>2021-04-12 07:00:00+00:00</td>\n",
       "      <td>1005</td>\n",
       "      <td>0.439671</td>\n",
       "      <td>0.493020</td>\n",
       "      <td>684</td>\n",
       "      <td>2025-04-23 16:49:56.519</td>\n",
       "    </tr>\n",
       "  </tbody>\n",
       "</table>\n",
       "</div>"
      ],
      "text/plain": [
       "                    event_timestamp  driver_id  conv_rate  acc_rate  \\\n",
       "driver_id                                                             \n",
       "1001      2021-04-12 07:00:00+00:00       1001   0.031889  0.659691   \n",
       "1002      2021-04-12 07:00:00+00:00       1002   0.482723  0.240803   \n",
       "1003      2021-04-12 07:00:00+00:00       1003   0.128065  0.099712   \n",
       "1004      2021-04-12 07:00:00+00:00       1004   0.898697  0.932314   \n",
       "1005      2021-04-12 07:00:00+00:00       1005   0.439671  0.493020   \n",
       "\n",
       "           avg_daily_trips                 created  \n",
       "driver_id                                           \n",
       "1001                   472 2025-04-23 16:49:56.519  \n",
       "1002                   454 2025-04-23 16:49:56.519  \n",
       "1003                   572 2025-04-23 16:49:56.519  \n",
       "1004                   578 2025-04-23 16:49:56.519  \n",
       "1005                   684 2025-04-23 16:49:56.519  "
      ]
     },
     "execution_count": 4,
     "metadata": {},
     "output_type": "execute_result"
    }
   ],
   "source": [
    "df1.groupby('driver_id').apply(lambda x: x.sort_values(by='event_timestamp', ascending=False).iloc[-1])"
   ]
  },
  {
   "cell_type": "code",
   "execution_count": null,
   "id": "5c64f26b",
   "metadata": {},
   "outputs": [],
   "source": []
  }
 ],
 "metadata": {
  "kernelspec": {
   "display_name": "DataScience",
   "language": "python",
   "name": "python3"
  },
  "language_info": {
   "codemirror_mode": {
    "name": "ipython",
    "version": 3
   },
   "file_extension": ".py",
   "mimetype": "text/x-python",
   "name": "python",
   "nbconvert_exporter": "python",
   "pygments_lexer": "ipython3",
   "version": "3.12.9"
  }
 },
 "nbformat": 4,
 "nbformat_minor": 5
}
